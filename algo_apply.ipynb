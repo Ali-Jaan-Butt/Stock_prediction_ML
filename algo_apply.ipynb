{
 "cells": [
  {
   "cell_type": "code",
   "execution_count": 197,
   "id": "d5cf53b7",
   "metadata": {},
   "outputs": [],
   "source": [
    "import pandas as pd\n",
    "import numpy as np\n",
    "from sklearn.model_selection import train_test_split\n",
    "from sklearn import neighbors\n",
    "from sklearn.neighbors import KNeighborsRegressor\n",
    "from sklearn.preprocessing import StandardScaler\n",
    "from sklearn.metrics import mean_squared_error\n",
    "from sklearn.metrics import r2_score"
   ]
  },
  {
   "cell_type": "code",
   "execution_count": 198,
   "id": "c78c6112",
   "metadata": {},
   "outputs": [],
   "source": [
    "df = pd.read_csv('format_AAPL.csv')"
   ]
  },
  {
   "cell_type": "code",
   "execution_count": 199,
   "id": "241413d5",
   "metadata": {
    "scrolled": true
   },
   "outputs": [
    {
     "data": {
      "text/html": [
       "<div>\n",
       "<style scoped>\n",
       "    .dataframe tbody tr th:only-of-type {\n",
       "        vertical-align: middle;\n",
       "    }\n",
       "\n",
       "    .dataframe tbody tr th {\n",
       "        vertical-align: top;\n",
       "    }\n",
       "\n",
       "    .dataframe thead th {\n",
       "        text-align: right;\n",
       "    }\n",
       "</style>\n",
       "<table border=\"1\" class=\"dataframe\">\n",
       "  <thead>\n",
       "    <tr style=\"text-align: right;\">\n",
       "      <th></th>\n",
       "      <th>Date</th>\n",
       "      <th>Close/Last</th>\n",
       "      <th>Volume</th>\n",
       "      <th>Open</th>\n",
       "      <th>High</th>\n",
       "      <th>Low</th>\n",
       "    </tr>\n",
       "  </thead>\n",
       "  <tbody>\n",
       "    <tr>\n",
       "      <th>0</th>\n",
       "      <td>2020-02-28</td>\n",
       "      <td>273.36</td>\n",
       "      <td>106721200</td>\n",
       "      <td>257.26</td>\n",
       "      <td>278.41</td>\n",
       "      <td>256.37</td>\n",
       "    </tr>\n",
       "    <tr>\n",
       "      <th>1</th>\n",
       "      <td>2020-02-27</td>\n",
       "      <td>273.52</td>\n",
       "      <td>80151380</td>\n",
       "      <td>281.10</td>\n",
       "      <td>286.00</td>\n",
       "      <td>272.96</td>\n",
       "    </tr>\n",
       "    <tr>\n",
       "      <th>2</th>\n",
       "      <td>2020-02-26</td>\n",
       "      <td>292.65</td>\n",
       "      <td>49678430</td>\n",
       "      <td>286.53</td>\n",
       "      <td>297.88</td>\n",
       "      <td>286.50</td>\n",
       "    </tr>\n",
       "    <tr>\n",
       "      <th>3</th>\n",
       "      <td>2020-02-25</td>\n",
       "      <td>288.08</td>\n",
       "      <td>57668360</td>\n",
       "      <td>300.95</td>\n",
       "      <td>302.53</td>\n",
       "      <td>286.13</td>\n",
       "    </tr>\n",
       "    <tr>\n",
       "      <th>4</th>\n",
       "      <td>2020-02-24</td>\n",
       "      <td>298.18</td>\n",
       "      <td>55548830</td>\n",
       "      <td>297.26</td>\n",
       "      <td>304.18</td>\n",
       "      <td>289.23</td>\n",
       "    </tr>\n",
       "  </tbody>\n",
       "</table>\n",
       "</div>"
      ],
      "text/plain": [
       "         Date  Close/Last     Volume    Open    High     Low\n",
       "0  2020-02-28      273.36  106721200  257.26  278.41  256.37\n",
       "1  2020-02-27      273.52   80151380  281.10  286.00  272.96\n",
       "2  2020-02-26      292.65   49678430  286.53  297.88  286.50\n",
       "3  2020-02-25      288.08   57668360  300.95  302.53  286.13\n",
       "4  2020-02-24      298.18   55548830  297.26  304.18  289.23"
      ]
     },
     "execution_count": 199,
     "metadata": {},
     "output_type": "execute_result"
    }
   ],
   "source": [
    "df.head()"
   ]
  },
  {
   "cell_type": "code",
   "execution_count": 200,
   "id": "86d30e96",
   "metadata": {},
   "outputs": [],
   "source": [
    "df['Open - Close'] = df['Open'] - df['Close/Last']"
   ]
  },
  {
   "cell_type": "code",
   "execution_count": 201,
   "id": "70eb3c33",
   "metadata": {},
   "outputs": [],
   "source": [
    "df['High - Low'] = df['High'] - df['Low']"
   ]
  },
  {
   "cell_type": "code",
   "execution_count": 202,
   "id": "73b675e6",
   "metadata": {},
   "outputs": [],
   "source": [
    "df = df.dropna()"
   ]
  },
  {
   "cell_type": "code",
   "execution_count": 203,
   "id": "410573bc",
   "metadata": {},
   "outputs": [
    {
     "data": {
      "text/html": [
       "<div>\n",
       "<style scoped>\n",
       "    .dataframe tbody tr th:only-of-type {\n",
       "        vertical-align: middle;\n",
       "    }\n",
       "\n",
       "    .dataframe tbody tr th {\n",
       "        vertical-align: top;\n",
       "    }\n",
       "\n",
       "    .dataframe thead th {\n",
       "        text-align: right;\n",
       "    }\n",
       "</style>\n",
       "<table border=\"1\" class=\"dataframe\">\n",
       "  <thead>\n",
       "    <tr style=\"text-align: right;\">\n",
       "      <th></th>\n",
       "      <th>Date</th>\n",
       "      <th>Close/Last</th>\n",
       "      <th>Volume</th>\n",
       "      <th>Open</th>\n",
       "      <th>High</th>\n",
       "      <th>Low</th>\n",
       "      <th>Open - Close</th>\n",
       "      <th>High - Low</th>\n",
       "    </tr>\n",
       "  </thead>\n",
       "  <tbody>\n",
       "    <tr>\n",
       "      <th>0</th>\n",
       "      <td>2020-02-28</td>\n",
       "      <td>273.36</td>\n",
       "      <td>106721200</td>\n",
       "      <td>257.26</td>\n",
       "      <td>278.41</td>\n",
       "      <td>256.37</td>\n",
       "      <td>-16.10</td>\n",
       "      <td>22.04</td>\n",
       "    </tr>\n",
       "    <tr>\n",
       "      <th>1</th>\n",
       "      <td>2020-02-27</td>\n",
       "      <td>273.52</td>\n",
       "      <td>80151380</td>\n",
       "      <td>281.10</td>\n",
       "      <td>286.00</td>\n",
       "      <td>272.96</td>\n",
       "      <td>7.58</td>\n",
       "      <td>13.04</td>\n",
       "    </tr>\n",
       "    <tr>\n",
       "      <th>2</th>\n",
       "      <td>2020-02-26</td>\n",
       "      <td>292.65</td>\n",
       "      <td>49678430</td>\n",
       "      <td>286.53</td>\n",
       "      <td>297.88</td>\n",
       "      <td>286.50</td>\n",
       "      <td>-6.12</td>\n",
       "      <td>11.38</td>\n",
       "    </tr>\n",
       "    <tr>\n",
       "      <th>3</th>\n",
       "      <td>2020-02-25</td>\n",
       "      <td>288.08</td>\n",
       "      <td>57668360</td>\n",
       "      <td>300.95</td>\n",
       "      <td>302.53</td>\n",
       "      <td>286.13</td>\n",
       "      <td>12.87</td>\n",
       "      <td>16.40</td>\n",
       "    </tr>\n",
       "    <tr>\n",
       "      <th>4</th>\n",
       "      <td>2020-02-24</td>\n",
       "      <td>298.18</td>\n",
       "      <td>55548830</td>\n",
       "      <td>297.26</td>\n",
       "      <td>304.18</td>\n",
       "      <td>289.23</td>\n",
       "      <td>-0.92</td>\n",
       "      <td>14.95</td>\n",
       "    </tr>\n",
       "  </tbody>\n",
       "</table>\n",
       "</div>"
      ],
      "text/plain": [
       "         Date  Close/Last     Volume    Open    High     Low  Open - Close  \\\n",
       "0  2020-02-28      273.36  106721200  257.26  278.41  256.37        -16.10   \n",
       "1  2020-02-27      273.52   80151380  281.10  286.00  272.96          7.58   \n",
       "2  2020-02-26      292.65   49678430  286.53  297.88  286.50         -6.12   \n",
       "3  2020-02-25      288.08   57668360  300.95  302.53  286.13         12.87   \n",
       "4  2020-02-24      298.18   55548830  297.26  304.18  289.23         -0.92   \n",
       "\n",
       "   High - Low  \n",
       "0       22.04  \n",
       "1       13.04  \n",
       "2       11.38  \n",
       "3       16.40  \n",
       "4       14.95  "
      ]
     },
     "execution_count": 203,
     "metadata": {},
     "output_type": "execute_result"
    }
   ],
   "source": [
    "df.head()"
   ]
  },
  {
   "cell_type": "code",
   "execution_count": 204,
   "id": "7cb05491",
   "metadata": {},
   "outputs": [
    {
     "data": {
      "text/plain": [
       "0.9997557699297196"
      ]
     },
     "execution_count": 204,
     "metadata": {},
     "output_type": "execute_result"
    }
   ],
   "source": [
    "df['High'].corr(df['Low'])"
   ]
  },
  {
   "cell_type": "code",
   "execution_count": 205,
   "id": "b52da78b",
   "metadata": {},
   "outputs": [
    {
     "data": {
      "text/plain": [
       "0.9996532205407405"
      ]
     },
     "execution_count": 205,
     "metadata": {},
     "output_type": "execute_result"
    }
   ],
   "source": [
    "df['Open'].corr(df['Close/Last'])"
   ]
  },
  {
   "cell_type": "code",
   "execution_count": 206,
   "id": "ea8e5fde",
   "metadata": {},
   "outputs": [],
   "source": [
    "x = df[['Open', 'High', 'Low', 'Open - Close', 'High - Low']]"
   ]
  },
  {
   "cell_type": "code",
   "execution_count": 207,
   "id": "0be45adf",
   "metadata": {},
   "outputs": [],
   "source": [
    "y = df['Close/Last']"
   ]
  },
  {
   "cell_type": "code",
   "execution_count": 208,
   "id": "963922b8",
   "metadata": {},
   "outputs": [],
   "source": [
    "x_train, x_test, y_train, y_test = train_test_split(x, y, test_size = 0.25, random_state = 44)"
   ]
  },
  {
   "cell_type": "code",
   "execution_count": 209,
   "id": "4657b071",
   "metadata": {},
   "outputs": [],
   "source": [
    "scaler = StandardScaler()"
   ]
  },
  {
   "cell_type": "code",
   "execution_count": 210,
   "id": "18df0ea5",
   "metadata": {},
   "outputs": [],
   "source": [
    "x_train = scaler.fit_transform(x_train)"
   ]
  },
  {
   "cell_type": "code",
   "execution_count": 211,
   "id": "dcab6c30",
   "metadata": {},
   "outputs": [],
   "source": [
    "x_test = scaler.transform(x_test)"
   ]
  },
  {
   "cell_type": "code",
   "execution_count": 212,
   "id": "aca7196e",
   "metadata": {},
   "outputs": [],
   "source": [
    "knn = neighbors.KNeighborsRegressor(n_neighbors=5)"
   ]
  },
  {
   "cell_type": "code",
   "execution_count": 213,
   "id": "5339e5ad",
   "metadata": {},
   "outputs": [
    {
     "data": {
      "text/html": [
       "<style>#sk-container-id-8 {color: black;background-color: white;}#sk-container-id-8 pre{padding: 0;}#sk-container-id-8 div.sk-toggleable {background-color: white;}#sk-container-id-8 label.sk-toggleable__label {cursor: pointer;display: block;width: 100%;margin-bottom: 0;padding: 0.3em;box-sizing: border-box;text-align: center;}#sk-container-id-8 label.sk-toggleable__label-arrow:before {content: \"▸\";float: left;margin-right: 0.25em;color: #696969;}#sk-container-id-8 label.sk-toggleable__label-arrow:hover:before {color: black;}#sk-container-id-8 div.sk-estimator:hover label.sk-toggleable__label-arrow:before {color: black;}#sk-container-id-8 div.sk-toggleable__content {max-height: 0;max-width: 0;overflow: hidden;text-align: left;background-color: #f0f8ff;}#sk-container-id-8 div.sk-toggleable__content pre {margin: 0.2em;color: black;border-radius: 0.25em;background-color: #f0f8ff;}#sk-container-id-8 input.sk-toggleable__control:checked~div.sk-toggleable__content {max-height: 200px;max-width: 100%;overflow: auto;}#sk-container-id-8 input.sk-toggleable__control:checked~label.sk-toggleable__label-arrow:before {content: \"▾\";}#sk-container-id-8 div.sk-estimator input.sk-toggleable__control:checked~label.sk-toggleable__label {background-color: #d4ebff;}#sk-container-id-8 div.sk-label input.sk-toggleable__control:checked~label.sk-toggleable__label {background-color: #d4ebff;}#sk-container-id-8 input.sk-hidden--visually {border: 0;clip: rect(1px 1px 1px 1px);clip: rect(1px, 1px, 1px, 1px);height: 1px;margin: -1px;overflow: hidden;padding: 0;position: absolute;width: 1px;}#sk-container-id-8 div.sk-estimator {font-family: monospace;background-color: #f0f8ff;border: 1px dotted black;border-radius: 0.25em;box-sizing: border-box;margin-bottom: 0.5em;}#sk-container-id-8 div.sk-estimator:hover {background-color: #d4ebff;}#sk-container-id-8 div.sk-parallel-item::after {content: \"\";width: 100%;border-bottom: 1px solid gray;flex-grow: 1;}#sk-container-id-8 div.sk-label:hover label.sk-toggleable__label {background-color: #d4ebff;}#sk-container-id-8 div.sk-serial::before {content: \"\";position: absolute;border-left: 1px solid gray;box-sizing: border-box;top: 0;bottom: 0;left: 50%;z-index: 0;}#sk-container-id-8 div.sk-serial {display: flex;flex-direction: column;align-items: center;background-color: white;padding-right: 0.2em;padding-left: 0.2em;position: relative;}#sk-container-id-8 div.sk-item {position: relative;z-index: 1;}#sk-container-id-8 div.sk-parallel {display: flex;align-items: stretch;justify-content: center;background-color: white;position: relative;}#sk-container-id-8 div.sk-item::before, #sk-container-id-8 div.sk-parallel-item::before {content: \"\";position: absolute;border-left: 1px solid gray;box-sizing: border-box;top: 0;bottom: 0;left: 50%;z-index: -1;}#sk-container-id-8 div.sk-parallel-item {display: flex;flex-direction: column;z-index: 1;position: relative;background-color: white;}#sk-container-id-8 div.sk-parallel-item:first-child::after {align-self: flex-end;width: 50%;}#sk-container-id-8 div.sk-parallel-item:last-child::after {align-self: flex-start;width: 50%;}#sk-container-id-8 div.sk-parallel-item:only-child::after {width: 0;}#sk-container-id-8 div.sk-dashed-wrapped {border: 1px dashed gray;margin: 0 0.4em 0.5em 0.4em;box-sizing: border-box;padding-bottom: 0.4em;background-color: white;}#sk-container-id-8 div.sk-label label {font-family: monospace;font-weight: bold;display: inline-block;line-height: 1.2em;}#sk-container-id-8 div.sk-label-container {text-align: center;}#sk-container-id-8 div.sk-container {/* jupyter's `normalize.less` sets `[hidden] { display: none; }` but bootstrap.min.css set `[hidden] { display: none !important; }` so we also need the `!important` here to be able to override the default hidden behavior on the sphinx rendered scikit-learn.org. See: https://github.com/scikit-learn/scikit-learn/issues/21755 */display: inline-block !important;position: relative;}#sk-container-id-8 div.sk-text-repr-fallback {display: none;}</style><div id=\"sk-container-id-8\" class=\"sk-top-container\"><div class=\"sk-text-repr-fallback\"><pre>KNeighborsRegressor()</pre><b>In a Jupyter environment, please rerun this cell to show the HTML representation or trust the notebook. <br />On GitHub, the HTML representation is unable to render, please try loading this page with nbviewer.org.</b></div><div class=\"sk-container\" hidden><div class=\"sk-item\"><div class=\"sk-estimator sk-toggleable\"><input class=\"sk-toggleable__control sk-hidden--visually\" id=\"sk-estimator-id-18\" type=\"checkbox\" checked><label for=\"sk-estimator-id-18\" class=\"sk-toggleable__label sk-toggleable__label-arrow\">KNeighborsRegressor</label><div class=\"sk-toggleable__content\"><pre>KNeighborsRegressor()</pre></div></div></div></div></div>"
      ],
      "text/plain": [
       "KNeighborsRegressor()"
      ]
     },
     "execution_count": 213,
     "metadata": {},
     "output_type": "execute_result"
    }
   ],
   "source": [
    "knn.fit(x_train,y_train)"
   ]
  },
  {
   "cell_type": "code",
   "execution_count": 214,
   "id": "eb96bbb2",
   "metadata": {},
   "outputs": [],
   "source": [
    "prediction = knn.predict(x_test)"
   ]
  },
  {
   "cell_type": "code",
   "execution_count": 218,
   "id": "8dae70d0",
   "metadata": {},
   "outputs": [],
   "source": [
    "mse = mean_squared_error(y_test, prediction)"
   ]
  },
  {
   "cell_type": "code",
   "execution_count": 219,
   "id": "727ad057",
   "metadata": {},
   "outputs": [],
   "source": [
    "r2 = r2_score(y_test, prediction)"
   ]
  },
  {
   "cell_type": "code",
   "execution_count": 220,
   "id": "e94d86fa",
   "metadata": {},
   "outputs": [
    {
     "name": "stdout",
     "output_type": "stream",
     "text": [
      "Mean Squared Error (MSE): 21.831018126290154\n",
      "R-squared (R^2): 0.9938840013435644\n"
     ]
    }
   ],
   "source": [
    "print(\"Mean Squared Error (MSE):\", mse)\n",
    "print(\"R-squared (R^2):\", r2)"
   ]
  },
  {
   "cell_type": "code",
   "execution_count": 224,
   "id": "f2df9b64",
   "metadata": {},
   "outputs": [
    {
     "name": "stdout",
     "output_type": "stream",
     "text": [
      "k = 1 MSE = 22.623433218317462\n",
      "k = 2 MSE = 26.0438410477381\n",
      "k = 3 MSE = 19.577420847573194\n",
      "k = 4 MSE = 23.85876892253571\n",
      "k = 5 MSE = 21.831018126290154\n",
      "k = 6 MSE = 25.972381191403866\n",
      "k = 7 MSE = 26.448852599970504\n",
      "k = 8 MSE = 25.061478249148323\n",
      "k = 9 MSE = 24.511947946036265\n",
      "k = 10 MSE = 24.494210608040643\n",
      "k = 11 MSE = 21.800491115580748\n",
      "k = 12 MSE = 25.927559472115306\n",
      "k = 13 MSE = 24.674833514868894\n",
      "k = 14 MSE = 26.0148988453164\n",
      "k = 15 MSE = 27.356453460497423\n",
      "k = 16 MSE = 29.785254138078432\n",
      "k = 17 MSE = 29.69424877781024\n",
      "k = 18 MSE = 30.894532131103325\n",
      "k = 19 MSE = 30.500068660071367\n",
      "k = 20 MSE = 32.33192544687476\n"
     ]
    }
   ],
   "source": [
    "for k in range(1, 21):\n",
    "    knn = KNeighborsRegressor(n_neighbors=k)\n",
    "    knn.fit(x_train, y_train)\n",
    "    pred = knn.predict(x_test)\n",
    "    mse = mean_squared_error(y_test, pred)\n",
    "    print(\"k =\", k, \"MSE =\", mse)"
   ]
  },
  {
   "cell_type": "code",
   "execution_count": 225,
   "id": "2ffe4ac9",
   "metadata": {},
   "outputs": [],
   "source": [
    "predict_data = pd.DataFrame({'Actual Price':y_test, 'Predicted Price':prediction})"
   ]
  },
  {
   "cell_type": "code",
   "execution_count": 226,
   "id": "fb081392",
   "metadata": {},
   "outputs": [
    {
     "data": {
      "text/html": [
       "<div>\n",
       "<style scoped>\n",
       "    .dataframe tbody tr th:only-of-type {\n",
       "        vertical-align: middle;\n",
       "    }\n",
       "\n",
       "    .dataframe tbody tr th {\n",
       "        vertical-align: top;\n",
       "    }\n",
       "\n",
       "    .dataframe thead th {\n",
       "        text-align: right;\n",
       "    }\n",
       "</style>\n",
       "<table border=\"1\" class=\"dataframe\">\n",
       "  <thead>\n",
       "    <tr style=\"text-align: right;\">\n",
       "      <th></th>\n",
       "      <th>Actual Price</th>\n",
       "      <th>Predicted Price</th>\n",
       "    </tr>\n",
       "  </thead>\n",
       "  <tbody>\n",
       "    <tr>\n",
       "      <th>213</th>\n",
       "      <td>205.2800</td>\n",
       "      <td>202.86600</td>\n",
       "    </tr>\n",
       "    <tr>\n",
       "      <th>1792</th>\n",
       "      <td>69.4171</td>\n",
       "      <td>71.25700</td>\n",
       "    </tr>\n",
       "    <tr>\n",
       "      <th>1015</th>\n",
       "      <td>98.1200</td>\n",
       "      <td>98.28600</td>\n",
       "    </tr>\n",
       "    <tr>\n",
       "      <th>303</th>\n",
       "      <td>170.9500</td>\n",
       "      <td>169.95000</td>\n",
       "    </tr>\n",
       "    <tr>\n",
       "      <th>2229</th>\n",
       "      <td>48.2657</td>\n",
       "      <td>48.27470</td>\n",
       "    </tr>\n",
       "    <tr>\n",
       "      <th>...</th>\n",
       "      <td>...</td>\n",
       "      <td>...</td>\n",
       "    </tr>\n",
       "    <tr>\n",
       "      <th>2502</th>\n",
       "      <td>32.1071</td>\n",
       "      <td>34.06744</td>\n",
       "    </tr>\n",
       "    <tr>\n",
       "      <th>79</th>\n",
       "      <td>257.5000</td>\n",
       "      <td>261.53200</td>\n",
       "    </tr>\n",
       "    <tr>\n",
       "      <th>35</th>\n",
       "      <td>303.1900</td>\n",
       "      <td>298.08400</td>\n",
       "    </tr>\n",
       "    <tr>\n",
       "      <th>656</th>\n",
       "      <td>150.3400</td>\n",
       "      <td>147.89600</td>\n",
       "    </tr>\n",
       "    <tr>\n",
       "      <th>1072</th>\n",
       "      <td>117.7500</td>\n",
       "      <td>114.30800</td>\n",
       "    </tr>\n",
       "  </tbody>\n",
       "</table>\n",
       "<p>630 rows × 2 columns</p>\n",
       "</div>"
      ],
      "text/plain": [
       "      Actual Price  Predicted Price\n",
       "213       205.2800        202.86600\n",
       "1792       69.4171         71.25700\n",
       "1015       98.1200         98.28600\n",
       "303       170.9500        169.95000\n",
       "2229       48.2657         48.27470\n",
       "...            ...              ...\n",
       "2502       32.1071         34.06744\n",
       "79        257.5000        261.53200\n",
       "35        303.1900        298.08400\n",
       "656       150.3400        147.89600\n",
       "1072      117.7500        114.30800\n",
       "\n",
       "[630 rows x 2 columns]"
      ]
     },
     "execution_count": 226,
     "metadata": {},
     "output_type": "execute_result"
    }
   ],
   "source": [
    "predict_data"
   ]
  }
 ],
 "metadata": {
  "kernelspec": {
   "display_name": "Python 3 (ipykernel)",
   "language": "python",
   "name": "python3"
  },
  "language_info": {
   "codemirror_mode": {
    "name": "ipython",
    "version": 3
   },
   "file_extension": ".py",
   "mimetype": "text/x-python",
   "name": "python",
   "nbconvert_exporter": "python",
   "pygments_lexer": "ipython3",
   "version": "3.11.3"
  }
 },
 "nbformat": 4,
 "nbformat_minor": 5
}
