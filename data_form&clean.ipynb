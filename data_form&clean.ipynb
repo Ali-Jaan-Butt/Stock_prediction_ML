{
 "cells": [
  {
   "cell_type": "code",
   "execution_count": 1,
   "id": "b90ba15f",
   "metadata": {},
   "outputs": [],
   "source": [
    "import pandas as pd"
   ]
  },
  {
   "cell_type": "code",
   "execution_count": 33,
   "id": "81026df7",
   "metadata": {},
   "outputs": [],
   "source": [
    "df = pd.read_csv('AAPL_stock.csv')"
   ]
  },
  {
   "cell_type": "code",
   "execution_count": 34,
   "id": "77b75409",
   "metadata": {},
   "outputs": [],
   "source": [
    "df = df.rename(columns={' Close/Last':'Close/Last'})\n",
    "df = df.rename(columns={' Open':'Open'})\n",
    "df = df.rename(columns={' Volume':'Volume'})\n",
    "df = df.rename(columns={' High':'High'})\n",
    "df = df.rename(columns={' Low':'Low'})"
   ]
  },
  {
   "cell_type": "code",
   "execution_count": 35,
   "id": "ee4f8b2d",
   "metadata": {},
   "outputs": [],
   "source": [
    "# For close/last\n",
    "def cl(c):\n",
    "    return c.replace('$','')\n",
    "df['Close/Last'] = df['Close/Last'].apply(cl)\n",
    "df['Close/Last'] = df['Close/Last'].astype(float)"
   ]
  },
  {
   "cell_type": "code",
   "execution_count": 36,
   "id": "fac30c9a",
   "metadata": {},
   "outputs": [],
   "source": [
    "# For Open\n",
    "def op(o):\n",
    "    return o.replace('$','')\n",
    "df['Open'] = df['Open'].apply(op)\n",
    "df['Open'] = df['Open'].astype(float)"
   ]
  },
  {
   "cell_type": "code",
   "execution_count": 37,
   "id": "10cfe974",
   "metadata": {},
   "outputs": [],
   "source": [
    "# For High\n",
    "def high(h):\n",
    "    return h.replace('$','')\n",
    "df['High'] = df['High'].apply(high)\n",
    "df['High'] = df['High'].astype(float)"
   ]
  },
  {
   "cell_type": "code",
   "execution_count": 38,
   "id": "8fd291d3",
   "metadata": {},
   "outputs": [],
   "source": [
    "# For Low\n",
    "def low(l):\n",
    "    return l.replace('$','')\n",
    "df['Low'] = df['Low'].apply(low)\n",
    "df['Low'] = df['Low'].astype(float)"
   ]
  },
  {
   "cell_type": "code",
   "execution_count": 41,
   "id": "3e806ca1",
   "metadata": {},
   "outputs": [],
   "source": [
    "# For Date\n",
    "def dt(d):\n",
    "    return d.replace('/','-')\n",
    "df['Date'] = df['Date'].apply(dt)\n",
    "df['Date'] = pd.to_datetime(df['Date'])"
   ]
  },
  {
   "cell_type": "code",
   "execution_count": 44,
   "id": "a8a8e7b1",
   "metadata": {},
   "outputs": [],
   "source": [
    "df.to_csv('format_AAPL.csv',index=False)"
   ]
  }
 ],
 "metadata": {
  "kernelspec": {
   "display_name": "Python 3 (ipykernel)",
   "language": "python",
   "name": "python3"
  },
  "language_info": {
   "codemirror_mode": {
    "name": "ipython",
    "version": 3
   },
   "file_extension": ".py",
   "mimetype": "text/x-python",
   "name": "python",
   "nbconvert_exporter": "python",
   "pygments_lexer": "ipython3",
   "version": "3.11.3"
  }
 },
 "nbformat": 4,
 "nbformat_minor": 5
}
