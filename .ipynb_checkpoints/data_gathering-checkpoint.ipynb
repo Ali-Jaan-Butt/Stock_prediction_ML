{
 "cells": [
  {
   "cell_type": "markdown",
   "id": "b17d377e",
   "metadata": {},
   "source": [
    "<h1>Data Gathering from Stock Website</h1>"
   ]
  },
  {
   "cell_type": "code",
   "execution_count": 1,
   "id": "40ab580b",
   "metadata": {},
   "outputs": [],
   "source": [
    "import requests\n",
    "from scrapy import Selector\n",
    "from tqdm import tqdm\n",
    "import time\n",
    "import pandas as pd"
   ]
  },
  {
   "cell_type": "code",
   "execution_count": 2,
   "id": "526079d7",
   "metadata": {},
   "outputs": [],
   "source": [
    "headers = {'user-agent':'Mozilla/5.0 (Windows NT 10.0; Win64; x64) AppleWebKit/537.36 (KHTML, like Gecko) Chrome/101.0.4951.67 Safari/537.36'}"
   ]
  },
  {
   "cell_type": "code",
   "execution_count": 3,
   "id": "8508f918",
   "metadata": {},
   "outputs": [],
   "source": [
    "res = requests.get('https://finviz.com/screener.ashx',headers=headers)"
   ]
  },
  {
   "cell_type": "code",
   "execution_count": 4,
   "id": "ccbe7231",
   "metadata": {},
   "outputs": [],
   "source": [
    "sel = Selector(text=res.text)"
   ]
  },
  {
   "cell_type": "code",
   "execution_count": 5,
   "id": "c001ddf6",
   "metadata": {},
   "outputs": [],
   "source": [
    "p = int(sel.xpath('//a[@class=\"screener-pages\"]/text()').extract()[-1])"
   ]
  },
  {
   "cell_type": "code",
   "execution_count": 6,
   "id": "c0f9db01",
   "metadata": {},
   "outputs": [],
   "source": [
    "pages = []\n",
    "for i in range(p):\n",
    "    pages.append('https://finviz.com/screener.ashx?v=111&r='+str((i*20)+1))"
   ]
  },
  {
   "cell_type": "code",
   "execution_count": 7,
   "id": "34432b9b",
   "metadata": {},
   "outputs": [],
   "source": [
    "Stock = {'No':[],'Ticker':[],'Company':[],'Sector':[],'Industry':[],'Country':[],'Market Cap':[],'P/E':[],'Price':[],'Change':[],'Volume':[]}"
   ]
  },
  {
   "cell_type": "code",
   "execution_count": 8,
   "id": "be982cfc",
   "metadata": {},
   "outputs": [
    {
     "name": "stderr",
     "output_type": "stream",
     "text": [
      "100%|█████████████████████████████████████████| 475/475 [19:28<00:00,  2.46s/it]\n"
     ]
    }
   ],
   "source": [
    "for j in tqdm(pages):\n",
    "    res = requests.get(j,headers=headers)\n",
    "    time.sleep(1)\n",
    "    sel = Selector(text = res.text)\n",
    "    for i in sel.xpath('//tr[@valign=\"top\"]'):\n",
    "        Stock['No'].append(i.xpath('./td/a/text()').extract_first()) #numbers\n",
    "        Stock['Ticker'].append(i.xpath('./td[2]/a/text()').extract_first()) #ticker\n",
    "        Stock['Company'].append(i.xpath('./td[3]/a/text()').extract_first()) #company\n",
    "        Stock['Sector'].append(i.xpath('./td[4]/a/text()').extract_first()) #sector\n",
    "        Stock['Industry'].append(i.xpath('./td[5]/a/text()').extract_first()) #industry\n",
    "        Stock['Country'].append(i.xpath('./td[6]/a/text()').extract_first()) #country\n",
    "        Stock['Market Cap'].append(i.xpath('./td[7]/a/text()').extract_first()) #market cap\n",
    "        Stock['P/E'].append(i.xpath('./td[8]/a//text()').extract_first()) #p/e\n",
    "        Stock['Price'].append(i.xpath('./td[9]/a//text()').extract_first()) #price\n",
    "        Stock['Change'].append(i.xpath('./td[10]/a//text()').extract_first()) #change\n",
    "        Stock['Volume'].append(i.xpath('./td[11]/a/text()').extract_first()) #volume"
   ]
  },
  {
   "cell_type": "code",
   "execution_count": 9,
   "id": "28685a17",
   "metadata": {},
   "outputs": [],
   "source": [
    "df = pd.DataFrame(Stock)"
   ]
  },
  {
   "cell_type": "markdown",
   "id": "0e8579da",
   "metadata": {},
   "source": [
    "<h1>Creating CSV File</h1>"
   ]
  },
  {
   "cell_type": "code",
   "execution_count": 10,
   "id": "1cbbcc85",
   "metadata": {},
   "outputs": [],
   "source": [
    "df.to_csv('stock_dataset.csv',index=False)"
   ]
  }
 ],
 "metadata": {
  "kernelspec": {
   "display_name": "Python 3 (ipykernel)",
   "language": "python",
   "name": "python3"
  },
  "language_info": {
   "codemirror_mode": {
    "name": "ipython",
    "version": 3
   },
   "file_extension": ".py",
   "mimetype": "text/x-python",
   "name": "python",
   "nbconvert_exporter": "python",
   "pygments_lexer": "ipython3",
   "version": "3.11.3"
  }
 },
 "nbformat": 4,
 "nbformat_minor": 5
}
