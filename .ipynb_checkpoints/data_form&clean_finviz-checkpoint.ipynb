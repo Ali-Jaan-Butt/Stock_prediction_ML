{
 "cells": [
  {
   "cell_type": "code",
   "execution_count": 56,
   "id": "26bc5eea",
   "metadata": {},
   "outputs": [],
   "source": [
    "import pandas as pd"
   ]
  },
  {
   "cell_type": "code",
   "execution_count": 70,
   "id": "ad2fe568",
   "metadata": {},
   "outputs": [],
   "source": [
    "df = pd.read_csv('stock_dataset.csv')"
   ]
  },
  {
   "cell_type": "code",
   "execution_count": 71,
   "id": "5abfe451",
   "metadata": {},
   "outputs": [],
   "source": [
    "# Changing name of column\n",
    "df = df.rename(columns={'Change':'Change in %'})"
   ]
  },
  {
   "cell_type": "code",
   "execution_count": 72,
   "id": "e81908d3",
   "metadata": {},
   "outputs": [],
   "source": [
    "# For Change in %\n",
    "def rep(x):\n",
    "    return x.replace('%','')\n",
    "def mi(m):\n",
    "    return m.replace('-','')\n",
    "df['Change in %'] = df['Change in %'].apply(rep)\n",
    "df['Change in %'] = df['Change in %'].apply(mi)\n",
    "df['Change in %'] = df['Change in %'].replace('',None)\n",
    "df['Change in %'] = df['Change in %'].astype(float)"
   ]
  },
  {
   "cell_type": "code",
   "execution_count": 75,
   "id": "c8fd13f6",
   "metadata": {},
   "outputs": [],
   "source": [
    "# Deleting No column\n",
    "del df['No']"
   ]
  },
  {
   "cell_type": "code",
   "execution_count": 76,
   "id": "bb1489e3",
   "metadata": {},
   "outputs": [],
   "source": [
    "# For Volume\n",
    "def vol(v):\n",
    "    return v.replace(',','')\n",
    "df['Volume'] = df['Volume'].apply(vol)\n",
    "df['Volume'] = df['Volume'].astype(int)"
   ]
  },
  {
   "cell_type": "code",
   "execution_count": 82,
   "id": "cabcaa0e",
   "metadata": {},
   "outputs": [],
   "source": [
    "# For Price\n",
    "df['Price'] = df['Price'].replace('-',None)\n",
    "df['Price'] = df['Price'].astype(float)"
   ]
  },
  {
   "cell_type": "code",
   "execution_count": 84,
   "id": "a5191014",
   "metadata": {},
   "outputs": [],
   "source": [
    "df['P/E'] = df['P/E'].replace('-',None)\n",
    "df['P/E'] = df['P/E'].astype(float)"
   ]
  },
  {
   "cell_type": "code",
   "execution_count": 86,
   "id": "e2b1b1d7",
   "metadata": {},
   "outputs": [],
   "source": [
    "df.to_csv('formatted_stock.csv',index=False)"
   ]
  }
 ],
 "metadata": {
  "kernelspec": {
   "display_name": "Python 3 (ipykernel)",
   "language": "python",
   "name": "python3"
  },
  "language_info": {
   "codemirror_mode": {
    "name": "ipython",
    "version": 3
   },
   "file_extension": ".py",
   "mimetype": "text/x-python",
   "name": "python",
   "nbconvert_exporter": "python",
   "pygments_lexer": "ipython3",
   "version": "3.11.3"
  }
 },
 "nbformat": 4,
 "nbformat_minor": 5
}
